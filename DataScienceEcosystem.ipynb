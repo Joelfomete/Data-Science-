{
 "cells": [
  {
   "cell_type": "markdown",
   "id": "12102f6b-edfb-440b-a6e9-3bad2a48603f",
   "metadata": {},
   "source": [
    "# My first Program"
   ]
  },
  {
   "cell_type": "markdown",
   "id": "10aa11f5-4651-4520-b0f5-6ff507887a09",
   "metadata": {},
   "source": [
    "# Data Science Tools and Ecosystem"
   ]
  },
  {
   "cell_type": "markdown",
   "id": "d06f9660-15f9-492f-9429-7fd75b582f94",
   "metadata": {},
   "source": [
    "In this notebook, Data Science Tools and Ecosystem are summarized."
   ]
  },
  {
   "cell_type": "markdown",
   "id": "eb4d8966-dad0-48f2-ae08-8b004b698e92",
   "metadata": {},
   "source": [
    "**Objectives:**\n",
    "\n",
    "- Popular languages that Data ScientistsCreate a Jupyter Notebook\n",
    "- Commonly used libraries used by Data Scientists\n",
    "- Arithmetic expressions in Python\n"
   ]
  },
  {
   "cell_type": "markdown",
   "id": "7d9223f1-b859-4b47-8fad-961c37e029ad",
   "metadata": {},
   "source": [
    "Some of the popular languages that Data Scientists use are:"
   ]
  },
  {
   "cell_type": "markdown",
   "id": "92c3ea77-4756-4e8b-b0f9-b904c40895c8",
   "metadata": {},
   "source": [
    "```\n",
    "1.Python\n",
    "2.R\n",
    "3.Julia\n",
    "\n",
    "```"
   ]
  },
  {
   "cell_type": "markdown",
   "id": "715eb176-7f17-4241-9586-8b614a91e501",
   "metadata": {},
   "source": [
    "Some of the commonly used libraries used by Data Scientists include:"
   ]
  },
  {
   "cell_type": "markdown",
   "id": "0f9b389d-eb33-42c7-abde-5e20becf8c9c",
   "metadata": {},
   "source": [
    "```\n",
    "Python: NumPy, Pandas, Matplotlib, Seaborn, Scikit-Learn, TensorFlow, PyTorch\n",
    "\n",
    "R: dplyr, ggplot2, caret, data.table, randomForest, xgboost\n",
    "\n",
    "```"
   ]
  },
  {
   "cell_type": "markdown",
   "id": "2c0c2b0d-32e2-484d-a9fe-b7029679c1d7",
   "metadata": {},
   "source": [
    "|Data Science Tools|\n",
    "|---|\n",
    "|Jupiter Notebook|\n",
    "Rstudio|\n",
    "|VS Code|"
   ]
  },
  {
   "cell_type": "markdown",
   "id": "a6bfde23-43cf-4ecc-997f-65c3480cc303",
   "metadata": {},
   "source": [
    "### Below are a few examples of evaluating arithmetic expressions in Python"
   ]
  },
  {
   "cell_type": "markdown",
   "id": "a0a2c311-69cb-44d4-a4e7-0433fceda231",
   "metadata": {},
   "source": [
    "This a simple arithmetic expression to mutiply then add integers"
   ]
  },
  {
   "cell_type": "code",
   "execution_count": 3,
   "id": "9350c086-dfe9-4adb-b306-955ba1a7aab5",
   "metadata": {},
   "outputs": [
    {
     "data": {
      "text/plain": [
       "17"
      ]
     },
     "execution_count": 3,
     "metadata": {},
     "output_type": "execute_result"
    }
   ],
   "source": [
    "(3*4)+5"
   ]
  },
  {
   "cell_type": "markdown",
   "id": "fedf73b0-6608-4a52-913a-6c37ec78d916",
   "metadata": {},
   "source": [
    "This will convert 200 minutes to hours by diving by 60"
   ]
  },
  {
   "cell_type": "code",
   "execution_count": 4,
   "id": "fb81fb06-dd36-40e4-921d-d5ad5f5e4cc2",
   "metadata": {},
   "outputs": [
    {
     "data": {
      "text/plain": [
       "3.3333333333333335"
      ]
     },
     "execution_count": 4,
     "metadata": {},
     "output_type": "execute_result"
    }
   ],
   "source": [
    "200/60"
   ]
  },
  {
   "cell_type": "markdown",
   "id": "9e7aaec8-84f4-402f-b4b8-ee991889dbde",
   "metadata": {},
   "source": [
    "## Author"
   ]
  },
  {
   "cell_type": "markdown",
   "id": "627b36bc-addd-46bb-affc-3fb562cccd13",
   "metadata": {},
   "source": [
    "Joël Fomete"
   ]
  },
  {
   "cell_type": "code",
   "execution_count": null,
   "id": "efb2057b-bb43-4acf-b042-ee16da0d7098",
   "metadata": {},
   "outputs": [],
   "source": []
  }
 ],
 "metadata": {
  "kernelspec": {
   "display_name": "Python 3 (ipykernel)",
   "language": "python",
   "name": "python3"
  },
  "language_info": {
   "codemirror_mode": {
    "name": "ipython",
    "version": 3
   },
   "file_extension": ".py",
   "mimetype": "text/x-python",
   "name": "python",
   "nbconvert_exporter": "python",
   "pygments_lexer": "ipython3",
   "version": "3.12.7"
  }
 },
 "nbformat": 4,
 "nbformat_minor": 5
}
